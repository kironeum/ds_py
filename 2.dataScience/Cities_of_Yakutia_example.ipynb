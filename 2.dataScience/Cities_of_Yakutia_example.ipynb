{
 "cells": [
  {
   "cell_type": "code",
   "execution_count": 1,
   "metadata": {},
   "outputs": [],
   "source": [
    "import numpy as np\n",
    "import pandas as pd\n",
    "import matplotlib.pyplot as plt"
   ]
  },
  {
   "cell_type": "code",
   "execution_count": 2,
   "metadata": {},
   "outputs": [
    {
     "data": {
      "text/html": [
       "<div>\n",
       "<style scoped>\n",
       "    .dataframe tbody tr th:only-of-type {\n",
       "        vertical-align: middle;\n",
       "    }\n",
       "\n",
       "    .dataframe tbody tr th {\n",
       "        vertical-align: top;\n",
       "    }\n",
       "\n",
       "    .dataframe thead th {\n",
       "        text-align: right;\n",
       "    }\n",
       "</style>\n",
       "<table border=\"1\" class=\"dataframe\">\n",
       "  <thead>\n",
       "    <tr style=\"text-align: right;\">\n",
       "      <th></th>\n",
       "      <th>город</th>\n",
       "      <th>население</th>\n",
       "      <th>площадь</th>\n",
       "      <th>широта</th>\n",
       "      <th>долгота</th>\n",
       "    </tr>\n",
       "  </thead>\n",
       "  <tbody>\n",
       "    <tr>\n",
       "      <th>0</th>\n",
       "      <td>Якутск</td>\n",
       "      <td>318768</td>\n",
       "      <td>122</td>\n",
       "      <td>62</td>\n",
       "      <td>129</td>\n",
       "    </tr>\n",
       "    <tr>\n",
       "      <th>1</th>\n",
       "      <td>Нерюнгри</td>\n",
       "      <td>57009</td>\n",
       "      <td>99</td>\n",
       "      <td>56</td>\n",
       "      <td>124</td>\n",
       "    </tr>\n",
       "    <tr>\n",
       "      <th>2</th>\n",
       "      <td>Вилюйск</td>\n",
       "      <td>11095</td>\n",
       "      <td>15</td>\n",
       "      <td>63</td>\n",
       "      <td>121</td>\n",
       "    </tr>\n",
       "    <tr>\n",
       "      <th>3</th>\n",
       "      <td>Ленск</td>\n",
       "      <td>23479</td>\n",
       "      <td>49</td>\n",
       "      <td>60</td>\n",
       "      <td>114</td>\n",
       "    </tr>\n",
       "    <tr>\n",
       "      <th>4</th>\n",
       "      <td>Алдан</td>\n",
       "      <td>20595</td>\n",
       "      <td>33</td>\n",
       "      <td>58</td>\n",
       "      <td>125</td>\n",
       "    </tr>\n",
       "  </tbody>\n",
       "</table>\n",
       "</div>"
      ],
      "text/plain": [
       "      город  население  площадь  широта  долгота\n",
       "0    Якутск     318768      122      62      129\n",
       "1  Нерюнгри      57009       99      56      124\n",
       "2   Вилюйск      11095       15      63      121\n",
       "3     Ленск      23479       49      60      114\n",
       "4     Алдан      20595       33      58      125"
      ]
     },
     "execution_count": 2,
     "metadata": {},
     "output_type": "execute_result"
    }
   ],
   "source": [
    "# загрузка таблицы excel\n",
    "cities = pd.read_excel('cities_of_Yakutia.xlsx')\n",
    "cities.head()"
   ]
  },
  {
   "cell_type": "code",
   "execution_count": 9,
   "metadata": {},
   "outputs": [],
   "source": [
    "# извлечение данных из таблицы excel\n",
    "lat = cities['широта']\n",
    "lon = cities['долгота']\n",
    "\n",
    "pop,area = cities['население'], cities['площадь']"
   ]
  },
  {
   "cell_type": "code",
   "execution_count": 20,
   "metadata": {},
   "outputs": [
    {
     "data": {
      "image/png": "[encoded data removed]",
      "text/plain": [
       "<Figure size 432x288 with 2 Axes>"
      ]
     },
     "metadata": {
      "needs_background": "light"
     },
     "output_type": "display_data"
    }
   ],
   "source": [
    "# визуализация данных\n",
    "\n",
    "#вычисление логарифмов\n",
    "pop_log = np.log10(pop)\n",
    "\n",
    "#рисование\n",
    "plt.scatter(lon, lat, c=pop_log, s=area, cmap='viridis', label=['город']) # cmap=viridis ставится по умолчанию, можно не прописывать\n",
    "plt.colorbar(label='log10(население)') # добавляет шкалу с логарифмированными значениями\n",
    "\n",
    "# заголовки, наименования осей\n",
    "plt.title('Города Якутии')\n",
    "plt.xlabel('долгота')\n",
    "plt.ylabel('широта')\n",
    "plt.show()\n",
    "\n",
    "# картографические проекции из модуля basemap\n"
   ]
  },
  {
   "cell_type": "code",
   "execution_count": 24,
   "metadata": {},
   "outputs": [
    {
     "data": {
      "image/png": "[encoded data removed]",
      "text/plain": [
       "<Figure size 432x288 with 2 Axes>"
      ]
     },
     "metadata": {
      "needs_background": "light"
     },
     "output_type": "display_data"
    }
   ],
   "source": [
    "\n",
    "fig, ax = plt.subplots()\n",
    "\n",
    "scatter = ax.scatter(lon, lat, c=pop_log, s=area)\n",
    "\n",
    "# # produce a legend with the unique colors from the scatter\n",
    "# legend1 = ax.legend(*scatter.legend_elements(),\n",
    "#                     loc=\"lower left\", title=\"население\")\n",
    "# ax.add_artist(legend1)\n",
    "\n",
    "fig.colorbar(scatter, label='log10(население)')\n",
    "\n",
    "# produce a legend with a cross section of sizes from the scatter\n",
    "handles, labels = scatter.legend_elements(prop=\"sizes\", alpha=0.6)\n",
    "legend2 = ax.legend(handles[::3], labels[::3], loc=\"lower right\", title=\"площадь\")\n",
    "\n",
    "plt.show()"
   ]
  },
  {
   "cell_type": "code",
   "execution_count": null,
   "metadata": {},
   "outputs": [],
   "source": []
  }
 ],
 "metadata": {
  "kernelspec": {
   "display_name": "Python 3",
   "language": "python",
   "name": "python3"
  },
  "language_info": {
   "codemirror_mode": {
    "name": "ipython",
    "version": 3
   },
   "file_extension": ".py",
   "mimetype": "text/x-python",
   "name": "python",
   "nbconvert_exporter": "python",
   "pygments_lexer": "ipython3",
   "version": "3.8.3"
  }
 },
 "nbformat": 4,
 "nbformat_minor": 4
}
